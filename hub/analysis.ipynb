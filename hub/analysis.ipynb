{
 "cells": [
  {
   "cell_type": "code",
   "execution_count": null,
   "id": "c37536c6",
   "metadata": {},
   "outputs": [],
   "source": [
    "import wandb\n",
    "\n",
    "api = wandb.Api()\n",
    "entity, project = \"sayakpaul\", \"keras-xla-benchmarks\"  \n",
    "runs = api.runs(entity + \"/\" + project) \n",
    "print(f\"Total runs: {len(runs)}\")"
   ]
  },
  {
   "cell_type": "code",
   "execution_count": null,
   "id": "2e4fb501",
   "metadata": {},
   "outputs": [],
   "source": [
    "from model_mapping import MODEL_NAME_MAPPING\n",
    "\n",
    "all_variants = [\n",
    "    variant for k in MODEL_NAME_MAPPING for variant in MODEL_NAME_MAPPING[k]\n",
    "]\n",
    "all_variants"
   ]
  },
  {
   "cell_type": "code",
   "execution_count": null,
   "id": "ab5e465d",
   "metadata": {},
   "outputs": [],
   "source": [
    "import pandas as pd\n",
    "\n",
    "resolutions = []\n",
    "accelerators = []\n",
    "\n",
    "model_families = []\n",
    "model_variants = []\n",
    "xla_status = []\n",
    "\n",
    "flops = []\n",
    "params = []\n",
    "throughputs = []\n",
    "\n",
    "for run in runs:\n",
    "    run_config = run.config\n",
    "    run_summary = run.summary._json_dict\n",
    "\n",
    "    if run_config[\"variant\"] in all_variants:\n",
    "        model_families.append(run_config[\"family\"])\n",
    "        model_variants.append(run_config[\"variant\"])\n",
    "        resolutions.append(run_config[\"resolution\"])\n",
    "        xla_status.append(run_config[\"xla\"])\n",
    "\n",
    "        accelerator_name = run.name.split(\"@\")[-1].split(\"-\")[1]\n",
    "        accelerators.append(accelerator_name)\n",
    "\n",
    "        flops.append(run_summary[\"FLOPs (giga)\"])\n",
    "        params.append(run_summary[\"Num parameters (million)\"])\n",
    "        throughputs.append(run_summary[\"Throughput (samples/sec)\"])\n",
    "\n",
    "viz_df = pd.DataFrame(\n",
    "    {\n",
    "        \"model_family\": model_families,\n",
    "        \"model_variant\": model_variants,\n",
    "        \"resolution\": resolutions,\n",
    "        \"xla\": xla_status,\n",
    "        \"accelerator\": accelerators,\n",
    "        \"flop (giga)\": flops,\n",
    "        \"params (million)\": params,\n",
    "        \"throughput (samples/sec)\": throughputs,\n",
    "    }\n",
    ")\n",
    "viz_df.head()"
   ]
  },
  {
   "cell_type": "code",
   "execution_count": null,
   "id": "677dc1e2",
   "metadata": {},
   "outputs": [],
   "source": [
    "def plot_topk_per_accelerator(\n",
    "    accelerator=\"a100\", topk=10, resolution=224, xla_status=True\n",
    "):\n",
    "    filtered_df = viz_df[viz_df[\"accelerator\"] == accelerator]\n",
    "    subset_df = filtered_df.query(f\"resolution == {resolution} and xla == {xla_status}\")\n",
    "    topk_df = subset_df.nlargest(topk, [\"throughput (samples/sec)\"])\n",
    "    return topk_df"
   ]
  },
  {
   "cell_type": "code",
   "execution_count": null,
   "id": "9c5ff12d",
   "metadata": {},
   "outputs": [],
   "source": [
    "# Adapted from\n",
    "# https://github.com/nlp-with-transformers/notebooks/blob/main/08_model-compression.ipynb\n",
    "\n",
    "import matplotlib.pyplot as plt\n",
    "\n",
    "\n",
    "def plot_metrics(df, savefig=False):\n",
    "    for model_variant in df[\"model_variant\"]:\n",
    "        filtered = df.query(f\"model_variant == '{model_variant}'\")\n",
    "        plt.scatter(\n",
    "            filtered[\"flop (giga)\"],\n",
    "            filtered[\"throughput (samples/sec)\"],\n",
    "            alpha=0.5,\n",
    "            s=filtered[\"params (million)\"] * 5,\n",
    "            label=model_variant,\n",
    "            marker=\"o\",\n",
    "        )\n",
    "\n",
    "    legend = plt.legend(bbox_to_anchor=(1, 1))\n",
    "    for handle in legend.legendHandles:\n",
    "        handle.set_sizes([20])\n",
    "\n",
    "    plt.ylabel(\"Throughput (samples/sec)\", fontsize=14)\n",
    "    plt.xlabel(\"FLOPS (giga)\", fontsize=14)\n",
    "\n",
    "    accelerator_name = df[\"accelerator\"].unique()[0]\n",
    "    resolution = df[\"resolution\"].unique()[0]\n",
    "    xla_status = df[\"xla\"].unique()[0]\n",
    "    plt.title(\n",
    "        f\"Accelerator: {accelerator_name}, Resolution: {resolution}, XLA: {xla_status}\",\n",
    "        fontsize=14,\n",
    "    )\n",
    "    if not savefig:\n",
    "        plt.show()\n",
    "    else:\n",
    "        plot_name = f\"{accelerator_name}_{resolution}_{xla_status}.png\"\n",
    "        plt.savefig(plot_name, dpi=300, bbox_inches=\"tight\")"
   ]
  },
  {
   "cell_type": "code",
   "execution_count": null,
   "id": "38d838bd",
   "metadata": {},
   "outputs": [],
   "source": [
    "a100_df = plot_topk_per_accelerator(\"a100\")\n",
    "plot_metrics(a100_df)"
   ]
  },
  {
   "cell_type": "code",
   "execution_count": null,
   "id": "12f0007d",
   "metadata": {},
   "outputs": [],
   "source": [
    "v100_df = plot_topk_per_accelerator(\"v100\")\n",
    "plot_metrics(v100_df)"
   ]
  },
  {
   "cell_type": "code",
   "execution_count": null,
   "id": "efefba62",
   "metadata": {},
   "outputs": [],
   "source": [
    "t4_df = plot_topk_per_accelerator(\"t4\")\n",
    "plot_metrics(t4_df)"
   ]
  },
  {
   "cell_type": "code",
   "execution_count": null,
   "id": "dc9d6d7f",
   "metadata": {},
   "outputs": [],
   "source": [
    "viz_df.resolution.unique()"
   ]
  },
  {
   "cell_type": "code",
   "execution_count": null,
   "id": "78f775cf",
   "metadata": {},
   "outputs": [],
   "source": [
    "# Grouping the dataframe by unique resolutions and finding the \n",
    "# model variant with highest throughput per group.\n",
    "grouped = viz_df.groupby(\"resolution\")[\"throughput (samples/sec)\"].idxmax()\n",
    "\n",
    "# Selecting the rows with the highest throughput per group.\n",
    "result = viz_df.loc[grouped, viz_df.columns]\n",
    "result"
   ]
  },
  {
   "cell_type": "code",
   "execution_count": null,
   "id": "06a9026d",
   "metadata": {},
   "outputs": [],
   "source": [
    "grouped = viz_df.groupby([\"resolution\", \"accelerator\"])[\n",
    "    \"throughput (samples/sec)\"\n",
    "].idxmax()\n",
    "result = viz_df.loc[grouped, viz_df.columns]\n",
    "result"
   ]
  }
 ],
 "metadata": {
  "kernelspec": {
   "display_name": "Python 3 (ipykernel)",
   "language": "python",
   "name": "python3"
  },
  "language_info": {
   "codemirror_mode": {
    "name": "ipython",
    "version": 3
   },
   "file_extension": ".py",
   "mimetype": "text/x-python",
   "name": "python",
   "nbconvert_exporter": "python",
   "pygments_lexer": "ipython3",
   "version": "3.8.2"
  }
 },
 "nbformat": 4,
 "nbformat_minor": 5
}
