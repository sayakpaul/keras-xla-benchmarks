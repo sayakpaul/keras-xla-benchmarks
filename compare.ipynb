{
 "cells": [
  {
   "cell_type": "code",
   "execution_count": null,
   "id": "dd5ad2be",
   "metadata": {},
   "outputs": [],
   "source": [
    "import wandb\n",
    "\n",
    "api = wandb.Api()\n",
    "entity, project = \"sayakpaul\", \"keras-xla-benchmarks\"  \n",
    "runs = api.runs(entity + \"/\" + project) \n",
    "print(f\"Total runs: {len(runs)}\")"
   ]
  },
  {
   "cell_type": "code",
   "execution_count": null,
   "id": "088fc366",
   "metadata": {},
   "outputs": [],
   "source": [
    "import pandas as pd\n",
    "\n",
    "resolutions = []\n",
    "accelerators = []\n",
    "\n",
    "model_families = []\n",
    "model_variants = []\n",
    "xla_status = []\n",
    "\n",
    "flops = []\n",
    "params = []\n",
    "throughputs = []\n",
    "\n",
    "for run in runs:\n",
    "    run_config = run.config\n",
    "    run_summary = run.summary._json_dict\n",
    "\n",
    "    model_families.append(run_config[\"family\"])\n",
    "    model_variants.append(run_config[\"variant\"])\n",
    "    resolutions.append(run_config[\"resolution\"])\n",
    "    xla_status.append(run_config[\"xla\"])\n",
    "\n",
    "    accelerator_name = run.name.split(\"@\")[-1].split(\"-\")[1]\n",
    "    accelerators.append(accelerator_name)\n",
    "\n",
    "    flops.append(run_summary[\"FLOPs (giga)\"])\n",
    "    params.append(run_summary[\"Num parameters (million)\"])\n",
    "    throughputs.append(run_summary[\"Throughput (samples/sec)\"])\n",
    "\n",
    "viz_df = pd.DataFrame(\n",
    "    {\n",
    "        \"model_family\": model_families,\n",
    "        \"model_variant\": model_variants,\n",
    "        \"resolution\": resolutions,\n",
    "        \"xla\": xla_status,\n",
    "        \"accelerator\": accelerators,\n",
    "        \"flop (giga)\": flops,\n",
    "        \"params (million)\": params,\n",
    "        \"throughput (samples/sec)\": throughputs,\n",
    "    }\n",
    ")\n",
    "viz_df.head()"
   ]
  },
  {
   "cell_type": "code",
   "execution_count": null,
   "id": "0e67fdf4",
   "metadata": {},
   "outputs": [],
   "source": [
    "viz_df.to_csv(\"keras_xla_benchmarks.csv\", index=False)"
   ]
  },
  {
   "cell_type": "code",
   "execution_count": null,
   "id": "ae45cfc9",
   "metadata": {},
   "outputs": [],
   "source": [
    "# For the CNN model families, which one is the best?\n",
    "# What about model families?\n",
    "grouped = viz_df.groupby([\"resolution\", \"model_family\", \"accelerator\"])[\n",
    "    \"throughput (samples/sec)\"\n",
    "].idxmax()\n",
    "result = viz_df.loc[grouped, viz_df.columns]\n",
    "result"
   ]
  },
  {
   "cell_type": "code",
   "execution_count": null,
   "id": "f422cad6",
   "metadata": {},
   "outputs": [],
   "source": [
    "result[result[\"accelerator\"] == \"a100\"].sort_values(\n",
    "    by=[\"throughput (samples/sec)\"], ascending=False\n",
    ")"
   ]
  },
  {
   "cell_type": "code",
   "execution_count": null,
   "id": "676dce5a",
   "metadata": {},
   "outputs": [],
   "source": [
    "result.query(\"resolution == 224 and accelerator == 'a100'\").sort_values(\n",
    "    by=[\"throughput (samples/sec)\"], ascending=False\n",
    ")"
   ]
  },
  {
   "cell_type": "code",
   "execution_count": null,
   "id": "cb12fa23",
   "metadata": {},
   "outputs": [],
   "source": [
    "# Adapted from\n",
    "# https://github.com/nlp-with-transformers/notebooks/blob/main/08_model-compression.ipynb\n",
    "\n",
    "import matplotlib.pyplot as plt\n",
    "\n",
    "\n",
    "def plot_metrics(df, savefig=False):\n",
    "    for model_variant in df[\"model_variant\"]:\n",
    "        filtered = df.query(f\"model_variant == '{model_variant}'\")\n",
    "        plt.scatter(\n",
    "            filtered[\"flop (giga)\"],\n",
    "            filtered[\"throughput (samples/sec)\"],\n",
    "            alpha=0.5,\n",
    "            s=filtered[\"params (million)\"] * 5,\n",
    "            label=model_variant,\n",
    "            marker=\"o\",\n",
    "        )\n",
    "\n",
    "    legend = plt.legend(bbox_to_anchor=(1, 1))\n",
    "    for handle in legend.legendHandles:\n",
    "        handle.set_sizes([20])\n",
    "\n",
    "    plt.ylabel(\"Throughput (samples/sec)\", fontsize=14)\n",
    "    plt.xlabel(\"FLOPS (giga)\", fontsize=14)\n",
    "\n",
    "    accelerator_name = df[\"accelerator\"].unique()[0]\n",
    "    resolution = df[\"resolution\"].unique()[0]\n",
    "    xla_status = df[\"xla\"].unique()[0]\n",
    "    plt.title(\n",
    "        f\"Accelerator: {accelerator_name}, Resolution: {resolution}, XLA: {xla_status}\",\n",
    "        fontsize=14,\n",
    "    )\n",
    "    if not savefig:\n",
    "        plt.show()\n",
    "    else:\n",
    "        plot_name = f\"{accelerator_name}_{resolution}_{xla_status}.png\"\n",
    "        plt.savefig(plot_name, dpi=300, bbox_inches=\"tight\")"
   ]
  },
  {
   "cell_type": "code",
   "execution_count": null,
   "id": "340bb8d7",
   "metadata": {},
   "outputs": [],
   "source": [
    "df_224_a100 = result.query(\"resolution == 224 and accelerator == 'a100'\")\n",
    "\n",
    "plot_metrics(df_224_a100)"
   ]
  },
  {
   "cell_type": "code",
   "execution_count": null,
   "id": "a60f9331",
   "metadata": {},
   "outputs": [],
   "source": [
    "df_224_v100 = result.query(\"resolution == 224 and accelerator == 'v100'\")\n",
    "\n",
    "plot_metrics(df_224_v100)"
   ]
  },
  {
   "cell_type": "code",
   "execution_count": null,
   "id": "0c571b78",
   "metadata": {},
   "outputs": [],
   "source": [
    "df_224_t4 = result.query(\"resolution == 224 and accelerator == 't4'\")\n",
    "\n",
    "plot_metrics(df_224_t4)"
   ]
  }
 ],
 "metadata": {
  "kernelspec": {
   "display_name": "Python 3 (ipykernel)",
   "language": "python",
   "name": "python3"
  },
  "language_info": {
   "codemirror_mode": {
    "name": "ipython",
    "version": 3
   },
   "file_extension": ".py",
   "mimetype": "text/x-python",
   "name": "python",
   "nbconvert_exporter": "python",
   "pygments_lexer": "ipython3",
   "version": "3.8.2"
  }
 },
 "nbformat": 4,
 "nbformat_minor": 5
}
